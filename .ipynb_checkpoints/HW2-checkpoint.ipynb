{
 "cells": [
  {
   "cell_type": "markdown",
   "metadata": {},
   "source": [
    "## 与えられた手書き文字に対してガウスカーネルに対する最小二乗回帰により, パターン認識を行え"
   ]
  },
  {
   "cell_type": "markdown",
   "metadata": {},
   "source": [
    "必要なもののインポート"
   ]
  },
  {
   "cell_type": "code",
   "execution_count": 1,
   "metadata": {
    "collapsed": false
   },
   "outputs": [],
   "source": [
    "\n",
    "import csv\n",
    "import numpy as np\n",
    "import time\n",
    "from sklearn.metrics import classification_report"
   ]
  },
  {
   "cell_type": "markdown",
   "metadata": {},
   "source": [
    "データは先端データ解析の授業のものを再利用"
   ]
  },
  {
   "cell_type": "code",
   "execution_count": 2,
   "metadata": {
    "collapsed": false
   },
   "outputs": [
    {
     "ename": "FileNotFoundError",
     "evalue": "[Errno 2] No such file or directory: '/Users/shiki/Dropbox/2015年度/Autumn/先端データ/digit_csv/digit_train0.csv'",
     "output_type": "error",
     "traceback": [
      "\u001b[0;31m-------------------------------------------------------------------\u001b[0m",
      "\u001b[0;31mFileNotFoundError\u001b[0m                 Traceback (most recent call last)",
      "\u001b[0;32m<ipython-input-2-bce672cfdecd>\u001b[0m in \u001b[0;36m<module>\u001b[0;34m()\u001b[0m\n\u001b[1;32m      2\u001b[0m \u001b[0;32mfor\u001b[0m \u001b[0mi\u001b[0m \u001b[0;32min\u001b[0m \u001b[0mrange\u001b[0m\u001b[0;34m(\u001b[0m\u001b[0;36m10\u001b[0m\u001b[0;34m)\u001b[0m\u001b[0;34m:\u001b[0m\u001b[0;34m\u001b[0m\u001b[0m\n\u001b[1;32m      3\u001b[0m     \u001b[0mtrain_file\u001b[0m \u001b[0;34m=\u001b[0m \u001b[0;34m\"/Users/shiki/Dropbox/2015年度/Autumn/先端データ/digit_csv/digit_train\"\u001b[0m \u001b[0;34m+\u001b[0m \u001b[0mstr\u001b[0m\u001b[0;34m(\u001b[0m\u001b[0mi\u001b[0m\u001b[0;34m)\u001b[0m \u001b[0;34m+\u001b[0m \u001b[0;34m\".csv\"\u001b[0m\u001b[0;34m\u001b[0m\u001b[0m\n\u001b[0;32m----> 4\u001b[0;31m     \u001b[0mdata\u001b[0m  \u001b[0;34m=\u001b[0m \u001b[0mnp\u001b[0m\u001b[0;34m.\u001b[0m\u001b[0mloadtxt\u001b[0m\u001b[0;34m(\u001b[0m\u001b[0mtrain_file\u001b[0m\u001b[0;34m,\u001b[0m \u001b[0mdelimiter\u001b[0m\u001b[0;34m=\u001b[0m\u001b[0;34m\",\"\u001b[0m\u001b[0;34m)\u001b[0m\u001b[0;34m\u001b[0m\u001b[0m\n\u001b[0m\u001b[1;32m      5\u001b[0m     \u001b[0mdatas\u001b[0m\u001b[0;34m.\u001b[0m\u001b[0mappend\u001b[0m\u001b[0;34m(\u001b[0m\u001b[0mdata\u001b[0m\u001b[0;34m)\u001b[0m\u001b[0;34m\u001b[0m\u001b[0m\n\u001b[1;32m      6\u001b[0m \u001b[0mprint\u001b[0m\u001b[0;34m(\u001b[0m\u001b[0mdatas\u001b[0m\u001b[0;34m[\u001b[0m\u001b[0;36m0\u001b[0m\u001b[0;34m]\u001b[0m\u001b[0;34m.\u001b[0m\u001b[0mshape\u001b[0m\u001b[0;34m)\u001b[0m\u001b[0;34m\u001b[0m\u001b[0m\n",
      "\u001b[0;32m/Users/shiki/.pyenv/versions/anaconda3-2.5.0/lib/python3.5/site-packages/numpy/lib/npyio.py\u001b[0m in \u001b[0;36mloadtxt\u001b[0;34m(fname, dtype, comments, delimiter, converters, skiprows, usecols, unpack, ndmin)\u001b[0m\n\u001b[1;32m    803\u001b[0m                 \u001b[0mfh\u001b[0m \u001b[0;34m=\u001b[0m \u001b[0miter\u001b[0m\u001b[0;34m(\u001b[0m\u001b[0mopen\u001b[0m\u001b[0;34m(\u001b[0m\u001b[0mfname\u001b[0m\u001b[0;34m,\u001b[0m \u001b[0;34m'U'\u001b[0m\u001b[0;34m)\u001b[0m\u001b[0;34m)\u001b[0m\u001b[0;34m\u001b[0m\u001b[0m\n\u001b[1;32m    804\u001b[0m             \u001b[0;32melse\u001b[0m\u001b[0;34m:\u001b[0m\u001b[0;34m\u001b[0m\u001b[0m\n\u001b[0;32m--> 805\u001b[0;31m                 \u001b[0mfh\u001b[0m \u001b[0;34m=\u001b[0m \u001b[0miter\u001b[0m\u001b[0;34m(\u001b[0m\u001b[0mopen\u001b[0m\u001b[0;34m(\u001b[0m\u001b[0mfname\u001b[0m\u001b[0;34m)\u001b[0m\u001b[0;34m)\u001b[0m\u001b[0;34m\u001b[0m\u001b[0m\n\u001b[0m\u001b[1;32m    806\u001b[0m         \u001b[0;32melse\u001b[0m\u001b[0;34m:\u001b[0m\u001b[0;34m\u001b[0m\u001b[0m\n\u001b[1;32m    807\u001b[0m             \u001b[0mfh\u001b[0m \u001b[0;34m=\u001b[0m \u001b[0miter\u001b[0m\u001b[0;34m(\u001b[0m\u001b[0mfname\u001b[0m\u001b[0;34m)\u001b[0m\u001b[0;34m\u001b[0m\u001b[0m\n",
      "\u001b[0;31mFileNotFoundError\u001b[0m: [Errno 2] No such file or directory: '/Users/shiki/Dropbox/2015年度/Autumn/先端データ/digit_csv/digit_train0.csv'"
     ]
    }
   ],
   "source": [
    "datas = []\n",
    "for i in range(10):\n",
    "    train_file = \"/Users/shiki/Dropbox/2015年度/Autumn/先端データ/digit_csv/digit_train\" + str(i) + \".csv\"\n",
    "    data  = np.loadtxt(train_file, delimiter=\",\")\n",
    "    datas.append(data)\n",
    "print(datas[0].shape)\n",
    "test_datas = []\n",
    "for i in range(10):\n",
    "    test_file = \"/Users/shiki/Dropbox/2015年度/Autumn/先端データ/digit_csv/digit_test\" + str(i) + \".csv\"\n",
    "    data  = np.loadtxt(test_file, delimiter=\",\")\n",
    "    test_datas.append(data)\n",
    "test_X = test_datas[:]\n",
    "test_X =  np.r_[test_X[0], test_X[1], test_X[2], test_X[3], test_X[4], test_X[5], test_X[6], test_X[7], test_X[8], test_X[9] ]\n",
    "print(test_X.shape)\n",
    "\n",
    "print(len(data))\n",
    "# data = data[:, :, np.newaxis] #i で埋める必要\n",
    "t = np.matrix(np.ones(500)).T\n",
    "f = np.matrix(np.ones(500*9)*(-1)).T\n",
    "y = np.r_[t, f]\n"
   ]
  },
  {
   "cell_type": "markdown",
   "metadata": {},
   "source": [
    "学習と分類をする"
   ]
  },
  {
   "cell_type": "code",
   "execution_count": 15,
   "metadata": {
    "collapsed": false
   },
   "outputs": [
    {
     "name": "stdout",
     "output_type": "stream",
     "text": [
      "クラス 0 への分類\n",
      "カーネル回帰でパラメータ推定\n",
      "回帰式にテストデータ代入、スコア算出\n",
      "(2000, 1)\n",
      "スコア格納\n",
      "スコアの形状： (2000, 1)\n",
      "0 番目へのクラス判別:  8.715459601084392\n",
      "クラス 1 への分類\n",
      "カーネル回帰でパラメータ推定\n",
      "回帰式にテストデータ代入、スコア算出\n",
      "(2000, 1)\n",
      "スコア格納\n",
      "スコアの形状： (2000, 1)\n",
      "1 番目へのクラス判別:  18.413128332297006\n",
      "クラス 2 への分類\n",
      "カーネル回帰でパラメータ推定\n",
      "回帰式にテストデータ代入、スコア算出\n",
      "(2000, 1)\n",
      "スコア格納\n",
      "スコアの形状： (2000, 1)\n",
      "2 番目へのクラス判別:  28.33778293132782\n",
      "クラス 3 への分類\n",
      "カーネル回帰でパラメータ推定\n",
      "回帰式にテストデータ代入、スコア算出\n",
      "(2000, 1)\n",
      "スコア格納\n",
      "スコアの形状： (2000, 1)\n",
      "3 番目へのクラス判別:  38.1833299835523\n",
      "クラス 4 への分類\n",
      "カーネル回帰でパラメータ推定\n",
      "回帰式にテストデータ代入、スコア算出\n",
      "(2000, 1)\n",
      "スコア格納\n",
      "スコアの形状： (2000, 1)\n",
      "4 番目へのクラス判別:  48.009875098864235\n",
      "クラス 5 への分類\n",
      "カーネル回帰でパラメータ推定\n",
      "回帰式にテストデータ代入、スコア算出\n",
      "(2000, 1)\n",
      "スコア格納\n",
      "スコアの形状： (2000, 1)\n",
      "5 番目へのクラス判別:  57.75395274957021\n",
      "クラス 6 への分類\n",
      "カーネル回帰でパラメータ推定\n",
      "回帰式にテストデータ代入、スコア算出\n",
      "(2000, 1)\n",
      "スコア格納\n",
      "スコアの形状： (2000, 1)\n",
      "6 番目へのクラス判別:  67.29710471630096\n",
      "クラス 7 への分類\n",
      "カーネル回帰でパラメータ推定\n",
      "回帰式にテストデータ代入、スコア算出\n",
      "(2000, 1)\n",
      "スコア格納\n",
      "スコアの形状： (2000, 1)\n",
      "7 番目へのクラス判別:  77.45498223304749\n",
      "クラス 8 への分類\n",
      "カーネル回帰でパラメータ推定\n",
      "回帰式にテストデータ代入、スコア算出\n",
      "(2000, 1)\n",
      "スコア格納\n",
      "スコアの形状： (2000, 1)\n",
      "8 番目へのクラス判別:  87.28941961526871\n",
      "クラス 9 への分類\n",
      "カーネル回帰でパラメータ推定\n",
      "回帰式にテストデータ代入、スコア算出\n",
      "(2000, 1)\n",
      "スコア格納\n",
      "スコアの形状： (2000, 1)\n",
      "9 番目へのクラス判別:  97.48292599916458\n",
      "処理にかかった時間:  97.48295298417409\n"
     ]
    }
   ],
   "source": [
    "\"\"\"制約付き最小二乗法\"\"\"\n",
    "def rols(y, X, lmd = 0):\n",
    "    Xsq = (X.T).dot(X)\n",
    "    res = np.linalg.inv( Xsq + lmd*np.identity(Xsq.shape[0])).dot(X.T).dot(y)\n",
    "    return res\n",
    "\n",
    "\n",
    "\"\"\"ガウスカーネル 　第二引数が学習データ\"\"\"\n",
    "def gaus(X, c, h):\n",
    "    rownum = X.shape[0]\n",
    "    rownum2 = c.shape[0]\n",
    "    K = np.zeros([rownum, rownum2])\n",
    "    for i in range(0, rownum):\n",
    "            for j in range(0, rownum2):\n",
    "                norm = np.power(np.linalg.norm(X[i] - c[j]), 2)\n",
    "                k = np.exp(-norm/(2*np.power(h, 2)))\n",
    "                K[i][j] = k\n",
    "    return K\n",
    "\n",
    "\n",
    "\n",
    "\"\"\"訓練\"\"\"\n",
    "start = time.time()#実行時間測定開始\n",
    "\n",
    "scores = []\n",
    "#10クラス分の判別をループで行う\n",
    "for i in range(10):\n",
    "    h = 0.5    #損失の重み\n",
    "\n",
    "    print(\"クラス\", str(i), \"への分類\")\n",
    "    X = datas[:]\n",
    "    X1 = X.pop(i)\n",
    "    X2 = np.r_[X[0], X[1], X[2], X[3], X[4], X[5], X[6], X[7], X[8] ]\n",
    "    #最初の５００行がiの、残り４５００行がそれ以外のクラス判定になるように並び替え\n",
    "    X3 = np.r_[X1, X2]\n",
    "\n",
    "    print(\"カーネル回帰でパラメータ推定\")\n",
    "    k = gaus(X3, X3, h)\n",
    "\n",
    "    theta = rols(y, k)\n",
    "    print(\"回帰式にテストデータ代入、スコア算出\")\n",
    "    K = gaus(test_X, X3, h)\n",
    "    F = K.dot(theta)\n",
    "    print(F.shape)\n",
    "    print(\"スコア格納\")\n",
    "    scores.append(F)\n",
    "    print(\"スコアの形状：\", F.shape)\n",
    "    #実行時間測定終了、表示\n",
    "    elapsed_time = time.time() - start\n",
    "    print(str(i), \"番目へのクラス判別: \", elapsed_time/60)\n",
    "\n",
    "#実行時間測定終了、表示\n",
    "elapsed_time = time.time() - start\n",
    "print(\"処理にかかった時間: \", elapsed_time/60)"
   ]
  },
  {
   "cell_type": "code",
   "execution_count": 41,
   "metadata": {
    "collapsed": false
   },
   "outputs": [],
   "source": [
    "#算出したスコアを結合\n",
    "score_mat =  np.c_[ scores[0], scores[1], scores[2], scores[3], \\\n",
    "                   scores[4], scores[5], scores[6], scores[7], scores[8], scores[9]] "
   ]
  },
  {
   "cell_type": "code",
   "execution_count": 42,
   "metadata": {
    "collapsed": false
   },
   "outputs": [
    {
     "name": "stdout",
     "output_type": "stream",
     "text": [
      "分類精度を算出\n",
      "             precision    recall  f1-score   support\n",
      "\n",
      "        0.0       0.97      0.99      0.98       200\n",
      "        1.0       1.00      1.00      1.00       200\n",
      "        2.0       0.96      0.96      0.96       200\n",
      "        3.0       0.95      0.97      0.96       200\n",
      "        4.0       0.97      0.95      0.96       200\n",
      "        5.0       0.96      0.94      0.95       200\n",
      "        6.0       0.99      0.97      0.98       200\n",
      "        7.0       0.98      0.96      0.97       200\n",
      "        8.0       0.95      0.94      0.94       200\n",
      "        9.0       0.92      0.97      0.95       200\n",
      "\n",
      "avg / total       0.97      0.97      0.97      2000\n",
      "\n"
     ]
    }
   ],
   "source": [
    "#推定結果をベクトルにする\n",
    "pred = []\n",
    "for i in score_mat:\n",
    "    pred.append(np.argmax(i))\n",
    "\n",
    "#正しい答えのベクトルを作成\n",
    "s =np.array([ [0, 1, 2, 3, 4, 5, 6, 7, 8, 9]]).T\n",
    "true_val = np.kron(s, np.matrix(np.ones(200)).T)\n",
    "\n",
    "print(\"分類精度を算出\")\n",
    "print(classification_report(true_val, pred))#, target_names=target_names))"
   ]
  },
  {
   "cell_type": "markdown",
   "metadata": {},
   "source": [
    "**#結果  \n",
    "precison, recall 共に97％の精度で推定出来ている**"
   ]
  },
  {
   "cell_type": "code",
   "execution_count": null,
   "metadata": {
    "collapsed": true
   },
   "outputs": [],
   "source": []
  }
 ],
 "metadata": {
  "kernelspec": {
   "display_name": "Python 3",
   "language": "python",
   "name": "python3"
  },
  "language_info": {
   "codemirror_mode": {
    "name": "ipython",
    "version": 3
   },
   "file_extension": ".py",
   "mimetype": "text/x-python",
   "name": "python",
   "nbconvert_exporter": "python",
   "pygments_lexer": "ipython3",
   "version": "3.5.1"
  }
 },
 "nbformat": 4,
 "nbformat_minor": 0
}
