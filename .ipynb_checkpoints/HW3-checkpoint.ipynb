{
 "cells": [
  {
   "cell_type": "markdown",
   "metadata": {},
   "source": [
    "# HW3-3 計算機実験"
   ]
  },
  {
   "cell_type": "code",
   "execution_count": 1,
   "metadata": {
    "collapsed": false
   },
   "outputs": [
    {
     "name": "stdout",
     "output_type": "stream",
     "text": [
      "Python 3.5.1 :: Anaconda custom (x86_64)\r\n"
     ]
    }
   ],
   "source": [
    "import numpy as np\n",
    "import math\n",
    "import random\n",
    "import matplotlib.pyplot as plt\n",
    "import matplotlib.mlab as mlab\n",
    "!python3 --version\n",
    "%matplotlib inline"
   ]
  },
  {
   "cell_type": "markdown",
   "metadata": {},
   "source": [
    "## 二項分布から標本を発生させ,最尤推定量を求めよ"
   ]
  },
  {
   "cell_type": "code",
   "execution_count": 2,
   "metadata": {
    "collapsed": false
   },
   "outputs": [
    {
     "name": "stdout",
     "output_type": "stream",
     "text": [
      "最尤推定量は 0.7\n"
     ]
    }
   ],
   "source": [
    "data = np.random.binomial(n=1, p=0.5, size =10)\n",
    "n = len(data)\n",
    "m = np.sum(data)\n",
    "print(\"最尤推定量は\", m/n)"
   ]
  },
  {
   "cell_type": "markdown",
   "metadata": {},
   "source": [
    "## これを何度も繰り返し,最尤推定量の分布を求めよ"
   ]
  },
  {
   "cell_type": "code",
   "execution_count": 8,
   "metadata": {
    "collapsed": false
   },
   "outputs": [
    {
     "data": {
      "image/png": "[encoded data removed]",
      "text/plain": [
       "<matplotlib.figure.Figure at 0x10b222c88>"
      ]
     },
     "metadata": {},
     "output_type": "display_data"
    }
   ],
   "source": [
    "LH =[]\n",
    "for i in range(0,10000):\n",
    "    data = np.random.binomial(n=1, p=0.5, size =100)\n",
    "    n = len(data)\n",
    "    m = np.sum(data)\n",
    "    LH.append(m/n)\n",
    "    \n",
    "#plot\n",
    "plt.hist(LH, bins=100, normed=True, alpha=0.5)\n",
    "plt.title(\"Distribution of MLE\")\n",
    "plt.xlabel(\"x\")\n",
    "plt.ylabel(\"Probability\")\n",
    "plt.show()"
   ]
  },
  {
   "cell_type": "markdown",
   "metadata": {},
   "source": [
    "## 標本数を変え,最尤推定量の漸近正規性を確認せよ\n",
    "\n",
    "標本数を 100→10000にし、試行回数を50000回に増やした"
   ]
  },
  {
   "cell_type": "code",
   "execution_count": 10,
   "metadata": {
    "collapsed": false
   },
   "outputs": [
    {
     "name": "stdout",
     "output_type": "stream",
     "text": [
      "50000\n"
     ]
    },
    {
     "data": {
      "image/png": "[encoded data removed]",
      "text/plain": [
       "<matplotlib.figure.Figure at 0x1060a4e80>"
      ]
     },
     "metadata": {},
     "output_type": "display_data"
    }
   ],
   "source": [
    "LH2 =[]\n",
    "for i in range(0,50000):\n",
    "    data = np.random.binomial(n=1, p=0.5, size =10000)\n",
    "    n = len(data)\n",
    "    m = np.sum(data)\n",
    "    LH2.append(m/n)\n",
    "print(len(LH2))\n",
    "plt.hist(LH2, bins=100, normed=True, alpha=0.3)\n",
    "plt.title(\"Distribution of MLE\")\n",
    "plt.xlabel(\"x\")\n",
    "plt.ylabel(\"Probability\")\n",
    "plt.show()"
   ]
  },
  {
   "cell_type": "markdown",
   "metadata": {},
   "source": [
    "分布は上記の様に漸近的に正規分布に従う"
   ]
  }
 ],
 "metadata": {
  "kernelspec": {
   "display_name": "Python 3",
   "language": "python",
   "name": "python3"
  },
  "language_info": {
   "codemirror_mode": {
    "name": "ipython",
    "version": 3
   },
   "file_extension": ".py",
   "mimetype": "text/x-python",
   "name": "python",
   "nbconvert_exporter": "python",
   "pygments_lexer": "ipython3",
   "version": "3.5.1"
  }
 },
 "nbformat": 4,
 "nbformat_minor": 0
}
