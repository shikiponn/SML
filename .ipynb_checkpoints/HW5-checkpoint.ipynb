{
 "cells": [
  {
   "cell_type": "markdown",
   "metadata": {},
   "source": [
    "# HW5\n",
    "## 1"
   ]
  },
  {
   "cell_type": "code",
   "execution_count": 132,
   "metadata": {
    "collapsed": true
   },
   "outputs": [],
   "source": [
    "import numpy as np\n",
    "import pandas as pd\n",
    "import matplotlib.pyplot as plt\n",
    "from sklearn.cross_validation import KFold\n",
    "%matplotlib inline"
   ]
  },
  {
   "cell_type": "code",
   "execution_count": 133,
   "metadata": {
    "collapsed": false
   },
   "outputs": [],
   "source": [
    "n = 10000\n",
    "\n",
    "def f(n):\n",
    "    x = np.zeros(n)\n",
    "    u = np.random.rand(n)\n",
    "    for i, v in np.ndenumerate(u):\n",
    "        if 0<=v and v<1/8:\n",
    "            x[i] = np.sqrt(8*u[i])\n",
    "        elif 1/8<=v and v<1/4:\n",
    "            x[i] = 2-np.sqrt(2-8*u[i])\n",
    "        elif 1/4<=v and v<1/2 :\n",
    "            x[i] = 1+4*u[i]\n",
    "        elif 1/2<=v and v<3/4:\n",
    "            x[i] = 3+ np.sqrt(4*u[i]-2)\n",
    "        elif 3/4<=v and v<=1:\n",
    "            x[i] = 5-np.sqrt(4-4*u[i])\n",
    "    return x, u\n",
    "    \n",
    "        "
   ]
  },
  {
   "cell_type": "code",
   "execution_count": 134,
   "metadata": {
    "collapsed": false
   },
   "outputs": [
    {
     "data": {
      "image/png": "[encoded data removed]",
      "text/plain": [
       "<matplotlib.figure.Figure at 0x11c9202b0>"
      ]
     },
     "metadata": {},
     "output_type": "display_data"
    },
    {
     "data": {
      "text/plain": [
       "(10000, 2)"
      ]
     },
     "execution_count": 134,
     "metadata": {},
     "output_type": "execute_result"
    }
   ],
   "source": [
    "ret = f(n)\n",
    "y = ret[0]\n",
    "x = ret[1]\n",
    "# x = np.linspace(-1, 1, n)\n",
    "df = pd.DataFrame({\"y\":y, \"x\":x})\n",
    "# print(df[\"y\"])\n",
    "# df.ix[:,0].head()\n",
    "# print(np.shape(f(n)))\n",
    "plt.hist(y, bins=50)\n",
    "# df.hist()\n",
    "# fig = plt.figure()\n",
    "# ax = fig.add_subplot(111)\n",
    "    # ヒストグラム（normedをTrueで指定すると確率表示になる）\n",
    "# plt.ylim(0, 0.5)\n",
    "# plt.plot(x,y)\n",
    "plt.show()\n",
    "df.shape"
   ]
  },
  {
   "cell_type": "code",
   "execution_count": 135,
   "metadata": {
    "collapsed": false
   },
   "outputs": [
    {
     "name": "stdout",
     "output_type": "stream",
     "text": [
      "10000\n"
     ]
    }
   ],
   "source": [
    "def g_kernel(x):\n",
    "    return np.exp(-x**2/2)/(2 * np.pi)\n",
    "n = df.shape[0]\n",
    "print(n)\n",
    "Kf = KFold(n, n_folds=3, shuffle=True, random_state=None)\n",
    "\n",
    "def kfold_likelihood(h):\n",
    "    L = np.array([])\n",
    "    for train_index, test_index in Kf:\n",
    "        f = lambda x: g_kernel((x - y[train_index])/h).sum() / (n * h)\n",
    "        L = np.append(L, np.log(np.vectorize(f)(y[test_index])).sum() / len(y[test_index]))\n",
    "    #平均対数尤度を返す\n",
    "    return L.mean()\n",
    "H =  np.array([0.01, 0.05, 0.08, 0.1, 0.15, 0.5])\n",
    "for h in H:\n",
    "    kfold_likelihood(h)"
   ]
  },
  {
   "cell_type": "code",
   "execution_count": 136,
   "metadata": {
    "collapsed": false
   },
   "outputs": [
    {
     "data": {
      "image/png": "[encoded data removed]",
      "text/plain": [
       "<matplotlib.figure.Figure at 0x11c152860>"
      ]
     },
     "metadata": {},
     "output_type": "display_data"
    },
    {
     "name": "stdout",
     "output_type": "stream",
     "text": [
      "2\n"
     ]
    }
   ],
   "source": [
    "H = np.array([0.001, 0.01, 0.05, 0.08, 0.1, 0.15, 0.5])\n",
    "likelihoods = np.vectorize(kfold_likelihood)(H)\n",
    "plt.plot(H, likelihoods)\n",
    "plt.show()\n",
    "print(np.argmax(likelihoods))"
   ]
  },
  {
   "cell_type": "code",
   "execution_count": 143,
   "metadata": {
    "collapsed": false
   },
   "outputs": [
    {
     "data": {
      "image/png": "[encoded data removed]",
      "text/plain": [
       "<matplotlib.figure.Figure at 0x11c532d30>"
      ]
     },
     "metadata": {},
     "output_type": "display_data"
    }
   ],
   "source": [
    "h = H[np.argmax(likelihoods)]\n",
    "f = lambda x: g_kernel((x - y)/h).sum() / (n * h)\n",
    "x = np.linspace(0, 5, 200)\n",
    "plt.hist(y, bins=50, normed = True)\n",
    "p = np.vectorize(f)(x)\n",
    "plt.plot(x, p, \"r\")\n",
    "plt.show()"
   ]
  },
  {
   "cell_type": "markdown",
   "metadata": {},
   "source": [
    "上図の様に確率密度がプロットされた。密度の合計が明らかに１ではないので最後の確率密度の計算で間違っていると思われる。"
   ]
  },
  {
   "cell_type": "markdown",
   "metadata": {},
   "source": [
    "## 2最近傍識別器によって手書き文字認識を行え\n",
    "mat(m)形式のファイルをpythonで取り込むのが大変だったのでmnistで同じことを行いました。\n",
    "計算時間の都合上CVは行っていません。（一回の計算に３０分以上かかる）"
   ]
  },
  {
   "cell_type": "code",
   "execution_count": 1,
   "metadata": {
    "collapsed": true
   },
   "outputs": [],
   "source": [
    "%matplotlib inline\n",
    "import matplotlib.pyplot as plt\n",
    "import numpy\n",
    "from sklearn.utils import shuffle\n",
    "from sklearn.cross_validation import train_test_split\n",
    "from sklearn.metrics import f1_score"
   ]
  },
  {
   "cell_type": "code",
   "execution_count": null,
   "metadata": {
    "collapsed": true
   },
   "outputs": [],
   "source": [
    "from sklearn.datasets import fetch_mldata\n",
    "mnist = fetch_mldata('MNIST original', data_home=\".\")\n",
    "X, y = shuffle(mnist.data, mnist.target)\n",
    "X = X / 255.0\n",
    "train_X, test_X, train_y, test_y = train_test_split(X, y, test_size=0.2)\n",
    "train_X, dev_X , train_y, dev_y = train_test_split(train_X, train_y, test_size=0.2)\n",
    "print(len(train_X))\n",
    "print(len(dev_X))\n",
    "print(len(train_y))\n",
    "print(len(dev_y))"
   ]
  },
  {
   "cell_type": "code",
   "execution_count": null,
   "metadata": {
    "collapsed": true
   },
   "outputs": [],
   "source": [
    "fig = plt.figure(figsize=(9,9))\n",
    "fig.subplots_adjust(left=0, right=1, bottom=0, top=0.5, hspace=0.05, wspace=0.05)\n",
    "print (\"テストデータ\")\n",
    "for i in range(81):\n",
    "    ax = fig.add_subplot(9, 9, i + 1, xticks=[], yticks=[])\n",
    "    ax.imshow(train_X[i].reshape((28,28)), cmap='gray')"
   ]
  },
  {
   "cell_type": "code",
   "execution_count": null,
   "metadata": {
    "collapsed": true
   },
   "outputs": [],
   "source": [
    "# 必要なもの読み込み\n",
    "import collections\n",
    "\n",
    "\n",
    "\"\"\"\n",
    "関数の定義\n",
    "ここから\n",
    "\"\"\"\n",
    "\n",
    "def est_type(k, sample, teacher, y):\n",
    "    train_y = y\n",
    "    score =[]\n",
    "    for train_instance_x in teacher:\n",
    "        score.append(numpy.dot(train_instance_x, sample))\n",
    "    most_similar = sorted([ (s, l) for s, l in zip(score, train_y)], reverse = True)\n",
    "#     print most_similar[:k]\n",
    "    type = []\n",
    "    for i in most_similar[:k]:\n",
    "        type.append(i[1])\n",
    "    #同順位の場合は無視してcountersが最初に選んだものを採用　ランダム？\n",
    "    est_type = collections.Counter(type).most_common(1)[0][0]\n",
    "    return est_type\n",
    "\n",
    "def forall(k, dev, teacher,y):\n",
    "    ans = []\n",
    "    i=0\n",
    "    for sample in dev:\n",
    "\n",
    "        est = est_type(k, sample, teacher,y)\n",
    "        ans.append(est)\n",
    "        i += 1\n",
    "\n",
    "    print(\"repeated\", i)\n",
    "    return ans\n",
    "\n",
    "\"\"\"ここまで\"\"\"\n",
    "norm = numpy.linalg.norm(train_X, ord=2, axis=1)\n",
    "train_X = train_X / norm[:,numpy.newaxis]\n",
    "norm = numpy.linalg.norm(test_X, ord=2, axis=1)\n",
    "test_X = test_X / norm[:,numpy.newaxis]\n",
    "pred_y = forall(80, test_X ,train_X, train_y)\n",
    "\n"
   ]
  },
  {
   "cell_type": "code",
   "execution_count": null,
   "metadata": {
    "collapsed": true
   },
   "outputs": [],
   "source": [
    "from sklearn.metrics import classification_report\n",
    "print(classification_report(test_y, pred_y))"
   ]
  }
 ],
 "metadata": {
  "kernelspec": {
   "display_name": "Python 3",
   "language": "python",
   "name": "python3"
  },
  "language_info": {
   "codemirror_mode": {
    "name": "ipython",
    "version": 3
   },
   "file_extension": ".py",
   "mimetype": "text/x-python",
   "name": "python",
   "nbconvert_exporter": "python",
   "pygments_lexer": "ipython3",
   "version": "3.5.1"
  }
 },
 "nbformat": 4,
 "nbformat_minor": 0
}
